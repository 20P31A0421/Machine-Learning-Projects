{
 "cells": [
  {
   "cell_type": "markdown",
   "id": "6f40f725",
   "metadata": {},
   "source": [
    "\n",
    "Introduction\n",
    "\n",
    "The relationship between height and weight is a fundamental aspect of human biology and health. Understanding how these two variables correlate can provide insights into various aspects of health, including growth patterns, nutritional status, and the risk of developing certain health conditions. This project aims to analyze the relationship between height and weight using statistical and machine learning techniques to develop predictive models. These models can estimate weight based on height, providing valuable tools for health professionals and researchers.\n"
   ]
  },
  {
   "cell_type": "markdown",
   "id": "57a5f869",
   "metadata": {},
   "source": [
    "Real-World Implementation\n",
    "\n",
    "In real-world scenarios, understanding the height-weight relationship is crucial for several domains:\n",
    "\n",
    "Healthcare: Physicians use height and weight measurements to calculate Body Mass Index (BMI), which is a key indicator of obesity and undernutrition. Accurate prediction models can help in assessing growth in children, diagnosing health conditions, and tailoring personalized healthcare plans.\n",
    "\n",
    "Nutrition: Dietitians use height and weight to develop individualized diet plans. Predictive models can aid in recommending caloric intake and nutritional requirements based on an individual's height.\n",
    "\n",
    "Fitness and Wellness: Fitness professionals utilize height and weight data to create customized fitness programs. Predictive tools can enhance these programs by providing more precise assessments of an individual's health and fitness needs."
   ]
  },
  {
   "cell_type": "markdown",
   "id": "e51ab162",
   "metadata": {},
   "source": [
    "Domain Application\n",
    "\n",
    "The applications of height and weight analysis span multiple domains:\n",
    "\n",
    "Public Health: Identifying trends in population health, such as the prevalence of obesity or undernutrition, and developing interventions to address these issues.\n",
    "Sports Science: Tailoring training programs and nutrition plans for athletes to optimize performance and health.\n",
    "Pediatrics: Monitoring children's growth to ensure they are developing normally and identifying any potential health concerns early."
   ]
  },
  {
   "cell_type": "markdown",
   "id": "3765e7df",
   "metadata": {},
   "source": [
    "Conclusion\n",
    "\n",
    "By analyzing the relationship between height and weight, this project aims to develop accurate predictive models that can be applied in various domains such as healthcare, nutrition, and public health. Utilizing powerful tools and libraries, the project will provide valuable insights and practical solutions to enhance health assessments and interventions."
   ]
  },
  {
   "cell_type": "code",
   "execution_count": 1,
   "id": "b011fed8",
   "metadata": {},
   "outputs": [
    {
     "data": {
      "text/plain": [
       "'C:\\\\Users\\\\HP\\\\Downloads'"
      ]
     },
     "execution_count": 1,
     "metadata": {},
     "output_type": "execute_result"
    }
   ],
   "source": [
    "import os \n",
    "os.getcwd()#my current path"
   ]
  },
  {
   "cell_type": "code",
   "execution_count": 4,
   "id": "8de2507e",
   "metadata": {},
   "outputs": [],
   "source": [
    "os.chdir(r\"C:\\Users\\HP\\OneDrive\\Desktop\\Ml_Model_Building\\HEIGHT & WEIGHT\") #changing path"
   ]
  },
  {
   "cell_type": "code",
   "execution_count": 5,
   "id": "f1666aa2",
   "metadata": {},
   "outputs": [],
   "source": [
    "#importing eda libraries\n",
    "import numpy as np  #math\n",
    "import pandas as pd #excellent for data manuplation\n",
    "\n",
    "#visualization\n",
    "import matplotlib.pyplot as plt\n",
    "import seaborn as sns\n",
    "\n",
    "#preprocessing \n",
    "from sklearn.preprocessing import StandardScaler\n",
    "\n",
    "#spliting the data\n",
    "from sklearn.model_selection import train_test_split\n",
    "\n",
    "# importing Algorithms\n",
    "from sklearn.linear_model import LinearRegression\n",
    "from sklearn.tree import DecisionTreeRegressor\n",
    "from sklearn.ensemble import RandomForestRegressor\n",
    "\n",
    "#evalution matrics\n",
    "from sklearn.metrics import mean_squared_error"
   ]
  },
  {
   "cell_type": "code",
   "execution_count": 6,
   "id": "f07e6094",
   "metadata": {},
   "outputs": [],
   "source": [
    "df=pd.read_csv('SOCR-HeightWeight.csv') #reading csv file"
   ]
  },
  {
   "cell_type": "code",
   "execution_count": 7,
   "id": "4515c2e0",
   "metadata": {},
   "outputs": [
    {
     "data": {
      "text/html": [
       "<div>\n",
       "<style scoped>\n",
       "    .dataframe tbody tr th:only-of-type {\n",
       "        vertical-align: middle;\n",
       "    }\n",
       "\n",
       "    .dataframe tbody tr th {\n",
       "        vertical-align: top;\n",
       "    }\n",
       "\n",
       "    .dataframe thead th {\n",
       "        text-align: right;\n",
       "    }\n",
       "</style>\n",
       "<table border=\"1\" class=\"dataframe\">\n",
       "  <thead>\n",
       "    <tr style=\"text-align: right;\">\n",
       "      <th></th>\n",
       "      <th>Index</th>\n",
       "      <th>Height(Inches)</th>\n",
       "      <th>Weight(Pounds)</th>\n",
       "    </tr>\n",
       "  </thead>\n",
       "  <tbody>\n",
       "    <tr>\n",
       "      <th>0</th>\n",
       "      <td>1</td>\n",
       "      <td>65.78331</td>\n",
       "      <td>112.9925</td>\n",
       "    </tr>\n",
       "    <tr>\n",
       "      <th>1</th>\n",
       "      <td>2</td>\n",
       "      <td>71.51521</td>\n",
       "      <td>136.4873</td>\n",
       "    </tr>\n",
       "    <tr>\n",
       "      <th>2</th>\n",
       "      <td>3</td>\n",
       "      <td>69.39874</td>\n",
       "      <td>153.0269</td>\n",
       "    </tr>\n",
       "    <tr>\n",
       "      <th>3</th>\n",
       "      <td>4</td>\n",
       "      <td>68.21660</td>\n",
       "      <td>142.3354</td>\n",
       "    </tr>\n",
       "    <tr>\n",
       "      <th>4</th>\n",
       "      <td>5</td>\n",
       "      <td>67.78781</td>\n",
       "      <td>144.2971</td>\n",
       "    </tr>\n",
       "  </tbody>\n",
       "</table>\n",
       "</div>"
      ],
      "text/plain": [
       "   Index  Height(Inches)  Weight(Pounds)\n",
       "0      1        65.78331        112.9925\n",
       "1      2        71.51521        136.4873\n",
       "2      3        69.39874        153.0269\n",
       "3      4        68.21660        142.3354\n",
       "4      5        67.78781        144.2971"
      ]
     },
     "execution_count": 7,
     "metadata": {},
     "output_type": "execute_result"
    }
   ],
   "source": [
    "df.head() #1 pound=453grams"
   ]
  },
  {
   "cell_type": "code",
   "execution_count": 8,
   "id": "d236505d",
   "metadata": {},
   "outputs": [],
   "source": [
    "#converting weight pounds to kg\n",
    "df['Weight_kg']=df['Weight(Pounds)']*0.453592  \n",
    "\n",
    "# Convert inches to the desired format (feet.inches) \n",
    "df['Height(Feet.Inches)'] = df['Height(Inches)'] // 12 + (df['Height(Inches)'] % 12) / 10"
   ]
  },
  {
   "cell_type": "code",
   "execution_count": 9,
   "id": "11577de2",
   "metadata": {},
   "outputs": [
    {
     "data": {
      "text/html": [
       "<div>\n",
       "<style scoped>\n",
       "    .dataframe tbody tr th:only-of-type {\n",
       "        vertical-align: middle;\n",
       "    }\n",
       "\n",
       "    .dataframe tbody tr th {\n",
       "        vertical-align: top;\n",
       "    }\n",
       "\n",
       "    .dataframe thead th {\n",
       "        text-align: right;\n",
       "    }\n",
       "</style>\n",
       "<table border=\"1\" class=\"dataframe\">\n",
       "  <thead>\n",
       "    <tr style=\"text-align: right;\">\n",
       "      <th></th>\n",
       "      <th>Index</th>\n",
       "      <th>Height(Inches)</th>\n",
       "      <th>Weight(Pounds)</th>\n",
       "      <th>Weight_kg</th>\n",
       "      <th>Height(Feet.Inches)</th>\n",
       "    </tr>\n",
       "  </thead>\n",
       "  <tbody>\n",
       "    <tr>\n",
       "      <th>count</th>\n",
       "      <td>25000.000000</td>\n",
       "      <td>25000.000000</td>\n",
       "      <td>25000.000000</td>\n",
       "      <td>25000.000000</td>\n",
       "      <td>25000.000000</td>\n",
       "    </tr>\n",
       "    <tr>\n",
       "      <th>mean</th>\n",
       "      <td>12500.500000</td>\n",
       "      <td>67.993114</td>\n",
       "      <td>127.079421</td>\n",
       "      <td>57.642209</td>\n",
       "      <td>5.795967</td>\n",
       "    </tr>\n",
       "    <tr>\n",
       "      <th>std</th>\n",
       "      <td>7217.022701</td>\n",
       "      <td>1.901679</td>\n",
       "      <td>11.660898</td>\n",
       "      <td>5.289290</td>\n",
       "      <td>0.183513</td>\n",
       "    </tr>\n",
       "    <tr>\n",
       "      <th>min</th>\n",
       "      <td>1.000000</td>\n",
       "      <td>60.278360</td>\n",
       "      <td>78.014760</td>\n",
       "      <td>35.386871</td>\n",
       "      <td>5.027836</td>\n",
       "    </tr>\n",
       "    <tr>\n",
       "      <th>25%</th>\n",
       "      <td>6250.750000</td>\n",
       "      <td>66.704397</td>\n",
       "      <td>119.308675</td>\n",
       "      <td>54.117461</td>\n",
       "      <td>5.670440</td>\n",
       "    </tr>\n",
       "    <tr>\n",
       "      <th>50%</th>\n",
       "      <td>12500.500000</td>\n",
       "      <td>67.995700</td>\n",
       "      <td>127.157750</td>\n",
       "      <td>57.677738</td>\n",
       "      <td>5.799570</td>\n",
       "    </tr>\n",
       "    <tr>\n",
       "      <th>75%</th>\n",
       "      <td>18750.250000</td>\n",
       "      <td>69.272958</td>\n",
       "      <td>134.892850</td>\n",
       "      <td>61.186318</td>\n",
       "      <td>5.927296</td>\n",
       "    </tr>\n",
       "    <tr>\n",
       "      <th>max</th>\n",
       "      <td>25000.000000</td>\n",
       "      <td>75.152800</td>\n",
       "      <td>170.924000</td>\n",
       "      <td>77.529759</td>\n",
       "      <td>6.315280</td>\n",
       "    </tr>\n",
       "  </tbody>\n",
       "</table>\n",
       "</div>"
      ],
      "text/plain": [
       "              Index  Height(Inches)  Weight(Pounds)     Weight_kg  \\\n",
       "count  25000.000000    25000.000000    25000.000000  25000.000000   \n",
       "mean   12500.500000       67.993114      127.079421     57.642209   \n",
       "std     7217.022701        1.901679       11.660898      5.289290   \n",
       "min        1.000000       60.278360       78.014760     35.386871   \n",
       "25%     6250.750000       66.704397      119.308675     54.117461   \n",
       "50%    12500.500000       67.995700      127.157750     57.677738   \n",
       "75%    18750.250000       69.272958      134.892850     61.186318   \n",
       "max    25000.000000       75.152800      170.924000     77.529759   \n",
       "\n",
       "       Height(Feet.Inches)  \n",
       "count         25000.000000  \n",
       "mean              5.795967  \n",
       "std               0.183513  \n",
       "min               5.027836  \n",
       "25%               5.670440  \n",
       "50%               5.799570  \n",
       "75%               5.927296  \n",
       "max               6.315280  "
      ]
     },
     "execution_count": 9,
     "metadata": {},
     "output_type": "execute_result"
    }
   ],
   "source": [
    "df.describe()"
   ]
  },
  {
   "cell_type": "code",
   "execution_count": 10,
   "id": "4b33672d",
   "metadata": {},
   "outputs": [],
   "source": [
    "drop_col=['Index','Height(Inches)','Weight(Pounds)'] # selecting columns to del it\n",
    "\n",
    "#droping columns\n",
    "df=df.drop(columns=drop_col,axis=1)"
   ]
  },
  {
   "cell_type": "code",
   "execution_count": 11,
   "id": "ca2448e2",
   "metadata": {},
   "outputs": [
    {
     "data": {
      "text/html": [
       "<div>\n",
       "<style scoped>\n",
       "    .dataframe tbody tr th:only-of-type {\n",
       "        vertical-align: middle;\n",
       "    }\n",
       "\n",
       "    .dataframe tbody tr th {\n",
       "        vertical-align: top;\n",
       "    }\n",
       "\n",
       "    .dataframe thead th {\n",
       "        text-align: right;\n",
       "    }\n",
       "</style>\n",
       "<table border=\"1\" class=\"dataframe\">\n",
       "  <thead>\n",
       "    <tr style=\"text-align: right;\">\n",
       "      <th></th>\n",
       "      <th>Weight_kg</th>\n",
       "      <th>Height(Feet.Inches)</th>\n",
       "    </tr>\n",
       "  </thead>\n",
       "  <tbody>\n",
       "    <tr>\n",
       "      <th>12698</th>\n",
       "      <td>60.286096</td>\n",
       "      <td>5.967793</td>\n",
       "    </tr>\n",
       "    <tr>\n",
       "      <th>23875</th>\n",
       "      <td>62.054425</td>\n",
       "      <td>6.059702</td>\n",
       "    </tr>\n",
       "    <tr>\n",
       "      <th>24004</th>\n",
       "      <td>58.686549</td>\n",
       "      <td>5.693056</td>\n",
       "    </tr>\n",
       "  </tbody>\n",
       "</table>\n",
       "</div>"
      ],
      "text/plain": [
       "       Weight_kg  Height(Feet.Inches)\n",
       "12698  60.286096             5.967793\n",
       "23875  62.054425             6.059702\n",
       "24004  58.686549             5.693056"
      ]
     },
     "execution_count": 11,
     "metadata": {},
     "output_type": "execute_result"
    }
   ],
   "source": [
    "df.sample(3) #it will give random row information"
   ]
  },
  {
   "cell_type": "code",
   "execution_count": 12,
   "id": "28d0fe0f",
   "metadata": {},
   "outputs": [
    {
     "data": {
      "text/plain": [
       "(25000, 2)"
      ]
     },
     "execution_count": 12,
     "metadata": {},
     "output_type": "execute_result"
    }
   ],
   "source": [
    "df.shape  #checking shape of the data"
   ]
  },
  {
   "cell_type": "code",
   "execution_count": 13,
   "id": "66823d87",
   "metadata": {},
   "outputs": [
    {
     "data": {
      "text/plain": [
       "Weight_kg              False\n",
       "Height(Feet.Inches)    False\n",
       "dtype: bool"
      ]
     },
     "execution_count": 13,
     "metadata": {},
     "output_type": "execute_result"
    }
   ],
   "source": [
    "df.isna().any() #checking null values"
   ]
  },
  {
   "cell_type": "code",
   "execution_count": 14,
   "id": "c3dfa35c",
   "metadata": {},
   "outputs": [
    {
     "data": {
      "text/plain": [
       "Weight_kg              float64\n",
       "Height(Feet.Inches)    float64\n",
       "dtype: object"
      ]
     },
     "execution_count": 14,
     "metadata": {},
     "output_type": "execute_result"
    }
   ],
   "source": [
    "df.dtypes #checking dtypes for our dataframe"
   ]
  },
  {
   "cell_type": "code",
   "execution_count": 15,
   "id": "b582a070",
   "metadata": {},
   "outputs": [
    {
     "data": {
      "text/html": [
       "<div>\n",
       "<style scoped>\n",
       "    .dataframe tbody tr th:only-of-type {\n",
       "        vertical-align: middle;\n",
       "    }\n",
       "\n",
       "    .dataframe tbody tr th {\n",
       "        vertical-align: top;\n",
       "    }\n",
       "\n",
       "    .dataframe thead th {\n",
       "        text-align: right;\n",
       "    }\n",
       "</style>\n",
       "<table border=\"1\" class=\"dataframe\">\n",
       "  <thead>\n",
       "    <tr style=\"text-align: right;\">\n",
       "      <th></th>\n",
       "      <th>Weight_kg</th>\n",
       "      <th>Height(Feet.Inches)</th>\n",
       "    </tr>\n",
       "  </thead>\n",
       "  <tbody>\n",
       "    <tr>\n",
       "      <th>Weight_kg</th>\n",
       "      <td>1.000000</td>\n",
       "      <td>0.499192</td>\n",
       "    </tr>\n",
       "    <tr>\n",
       "      <th>Height(Feet.Inches)</th>\n",
       "      <td>0.499192</td>\n",
       "      <td>1.000000</td>\n",
       "    </tr>\n",
       "  </tbody>\n",
       "</table>\n",
       "</div>"
      ],
      "text/plain": [
       "                     Weight_kg  Height(Feet.Inches)\n",
       "Weight_kg             1.000000             0.499192\n",
       "Height(Feet.Inches)   0.499192             1.000000"
      ]
     },
     "execution_count": 15,
     "metadata": {},
     "output_type": "execute_result"
    }
   ],
   "source": [
    "df.corr() #correlation"
   ]
  },
  {
   "cell_type": "code",
   "execution_count": 16,
   "id": "8a373364",
   "metadata": {},
   "outputs": [
    {
     "data": {
      "text/html": [
       "<div>\n",
       "<style scoped>\n",
       "    .dataframe tbody tr th:only-of-type {\n",
       "        vertical-align: middle;\n",
       "    }\n",
       "\n",
       "    .dataframe tbody tr th {\n",
       "        vertical-align: top;\n",
       "    }\n",
       "\n",
       "    .dataframe thead th {\n",
       "        text-align: right;\n",
       "    }\n",
       "</style>\n",
       "<table border=\"1\" class=\"dataframe\">\n",
       "  <thead>\n",
       "    <tr style=\"text-align: right;\">\n",
       "      <th></th>\n",
       "      <th>Weight_kg</th>\n",
       "      <th>Height(Feet.Inches)</th>\n",
       "    </tr>\n",
       "  </thead>\n",
       "  <tbody>\n",
       "    <tr>\n",
       "      <th>count</th>\n",
       "      <td>25000.000000</td>\n",
       "      <td>25000.000000</td>\n",
       "    </tr>\n",
       "    <tr>\n",
       "      <th>mean</th>\n",
       "      <td>57.642209</td>\n",
       "      <td>5.795967</td>\n",
       "    </tr>\n",
       "    <tr>\n",
       "      <th>std</th>\n",
       "      <td>5.289290</td>\n",
       "      <td>0.183513</td>\n",
       "    </tr>\n",
       "    <tr>\n",
       "      <th>min</th>\n",
       "      <td>35.386871</td>\n",
       "      <td>5.027836</td>\n",
       "    </tr>\n",
       "    <tr>\n",
       "      <th>25%</th>\n",
       "      <td>54.117461</td>\n",
       "      <td>5.670440</td>\n",
       "    </tr>\n",
       "    <tr>\n",
       "      <th>50%</th>\n",
       "      <td>57.677738</td>\n",
       "      <td>5.799570</td>\n",
       "    </tr>\n",
       "    <tr>\n",
       "      <th>75%</th>\n",
       "      <td>61.186318</td>\n",
       "      <td>5.927296</td>\n",
       "    </tr>\n",
       "    <tr>\n",
       "      <th>max</th>\n",
       "      <td>77.529759</td>\n",
       "      <td>6.315280</td>\n",
       "    </tr>\n",
       "  </tbody>\n",
       "</table>\n",
       "</div>"
      ],
      "text/plain": [
       "          Weight_kg  Height(Feet.Inches)\n",
       "count  25000.000000         25000.000000\n",
       "mean      57.642209             5.795967\n",
       "std        5.289290             0.183513\n",
       "min       35.386871             5.027836\n",
       "25%       54.117461             5.670440\n",
       "50%       57.677738             5.799570\n",
       "75%       61.186318             5.927296\n",
       "max       77.529759             6.315280"
      ]
     },
     "execution_count": 16,
     "metadata": {},
     "output_type": "execute_result"
    }
   ],
   "source": [
    "df.describe()  "
   ]
  },
  {
   "cell_type": "markdown",
   "id": "5dcf6bdf",
   "metadata": {},
   "source": [
    "Mean:\n",
    "\n",
    "The mean height is approximately 67.99 inches.\n",
    "The mean weight is approximately 127.08 pounds.\n",
    "Standard Deviation (Std):\n",
    "\n",
    "The standard deviation for height is approximately 1.90 inches, indicating the spread or dispersion of heights around the mean.\n",
    "The standard deviation for weight is approximately 11.66 pounds, indicating the spread or dispersion of weights around the mean.\n",
    "Minimum and Maximum Values:\n",
    "\n",
    "The minimum height recorded is approximately 60.28 inches, and the maximum height is approximately 75.15 inches.\n",
    "The minimum weight recorded is approximately 78.01 pounds, and the maximum weight is approximately 170.92 pounds.\n",
    "Percentiles (25th, 50th, and 75th):\n",
    "\n",
    "The 25th percentile (Q1) indicates that 25% of the data falls below a height of approximately 66.70 inches and a weight of approximately 119.31 pounds.\n",
    "The 50th percentile (median) indicates that 50% of the data falls below a height of approximately 67.99 inches and a weight of approximately 127.16 pounds.\n",
    "The 75th percentile (Q3) indicates that 75% of the data falls below a height of approximately 69.27 inches and a weight of approximately 134.89 pounds."
   ]
  },
  {
   "cell_type": "markdown",
   "id": "cf78f21d",
   "metadata": {},
   "source": [
    "### Checking outliers using boxplot"
   ]
  },
  {
   "cell_type": "code",
   "execution_count": 17,
   "id": "65669bb4",
   "metadata": {},
   "outputs": [
    {
     "data": {
      "text/plain": [
       "<AxesSubplot:xlabel='Height(Feet.Inches)'>"
      ]
     },
     "execution_count": 17,
     "metadata": {},
     "output_type": "execute_result"
    },
    {
     "data": {
      "image/png": "[encoded data removed]",
      "text/plain": [
       "<Figure size 432x288 with 1 Axes>"
      ]
     },
     "metadata": {
      "needs_background": "light"
     },
     "output_type": "display_data"
    }
   ],
   "source": [
    "sns.boxplot(x=df['Height(Feet.Inches)'])"
   ]
  },
  {
   "cell_type": "code",
   "execution_count": 18,
   "id": "41619244",
   "metadata": {},
   "outputs": [
    {
     "data": {
      "text/plain": [
       "<AxesSubplot:xlabel='Weight_kg'>"
      ]
     },
     "execution_count": 18,
     "metadata": {},
     "output_type": "execute_result"
    },
    {
     "data": {
      "image/png": "[encoded data removed]",
      "text/plain": [
       "<Figure size 432x288 with 1 Axes>"
      ]
     },
     "metadata": {
      "needs_background": "light"
     },
     "output_type": "display_data"
    }
   ],
   "source": [
    "sns.boxplot(x=df['Weight_kg']) #checking outliers for "
   ]
  },
  {
   "cell_type": "markdown",
   "id": "8e1d34c3",
   "metadata": {},
   "source": [
    "A correlation coefficient of 0.502859 suggests a moderate positive correlation between height and weight"
   ]
  },
  {
   "cell_type": "code",
   "execution_count": 19,
   "id": "0098252f",
   "metadata": {},
   "outputs": [
    {
     "data": {
      "image/png": "[encoded data removed]",
      "text/plain": [
       "<Figure size 432x288 with 1 Axes>"
      ]
     },
     "metadata": {
      "needs_background": "light"
     },
     "output_type": "display_data"
    }
   ],
   "source": [
    "x=df['Height(Feet.Inches)']\n",
    "y=df['Weight_kg']\n",
    "\n",
    "sns.scatterplot(x=x,y=y)\n",
    "plt.title('Height vs Weight')\n",
    "plt.xlabel('Height(Feet.Inches)')\n",
    "plt.ylabel('Weight_kg')\n",
    "plt.show()"
   ]
  },
  {
   "cell_type": "code",
   "execution_count": 20,
   "id": "88d83649",
   "metadata": {},
   "outputs": [
    {
     "data": {
      "text/html": [
       "<div>\n",
       "<style scoped>\n",
       "    .dataframe tbody tr th:only-of-type {\n",
       "        vertical-align: middle;\n",
       "    }\n",
       "\n",
       "    .dataframe tbody tr th {\n",
       "        vertical-align: top;\n",
       "    }\n",
       "\n",
       "    .dataframe thead th {\n",
       "        text-align: right;\n",
       "    }\n",
       "</style>\n",
       "<table border=\"1\" class=\"dataframe\">\n",
       "  <thead>\n",
       "    <tr style=\"text-align: right;\">\n",
       "      <th></th>\n",
       "      <th>Weight_kg</th>\n",
       "      <th>Height(Feet.Inches)</th>\n",
       "    </tr>\n",
       "  </thead>\n",
       "  <tbody>\n",
       "    <tr>\n",
       "      <th>11033</th>\n",
       "      <td>57.301960</td>\n",
       "      <td>5.915297</td>\n",
       "    </tr>\n",
       "    <tr>\n",
       "      <th>8199</th>\n",
       "      <td>60.917632</td>\n",
       "      <td>6.006241</td>\n",
       "    </tr>\n",
       "    <tr>\n",
       "      <th>13111</th>\n",
       "      <td>64.737694</td>\n",
       "      <td>5.830511</td>\n",
       "    </tr>\n",
       "  </tbody>\n",
       "</table>\n",
       "</div>"
      ],
      "text/plain": [
       "       Weight_kg  Height(Feet.Inches)\n",
       "11033  57.301960             5.915297\n",
       "8199   60.917632             6.006241\n",
       "13111  64.737694             5.830511"
      ]
     },
     "execution_count": 20,
     "metadata": {},
     "output_type": "execute_result"
    }
   ],
   "source": [
    "df.sample(3)"
   ]
  },
  {
   "cell_type": "code",
   "execution_count": 21,
   "id": "ed81a014",
   "metadata": {},
   "outputs": [],
   "source": [
    "# split the data into dependent & independent variable \n",
    "X=df.iloc[:,1]\n",
    "y=df.iloc[:,0]"
   ]
  },
  {
   "cell_type": "code",
   "execution_count": 24,
   "id": "58c163a8",
   "metadata": {},
   "outputs": [
    {
     "data": {
      "text/plain": [
       "0        5.578331\n",
       "1        6.151521\n",
       "2        5.939874\n",
       "3        5.821660\n",
       "4        5.778781\n",
       "           ...   \n",
       "24995    5.950215\n",
       "24996    5.454826\n",
       "24997    5.469855\n",
       "24998    5.752918\n",
       "24999    5.887761\n",
       "Name: Height(Feet.Inches), Length: 25000, dtype: float64"
      ]
     },
     "execution_count": 24,
     "metadata": {},
     "output_type": "execute_result"
    }
   ],
   "source": [
    "X"
   ]
  },
  {
   "cell_type": "code",
   "execution_count": 25,
   "id": "cfffd8bb",
   "metadata": {},
   "outputs": [
    {
     "data": {
      "text/plain": [
       "'Height(Feet.Inches)'"
      ]
     },
     "execution_count": 25,
     "metadata": {},
     "output_type": "execute_result"
    }
   ],
   "source": [
    "df.columns[1] #X variable column name"
   ]
  },
  {
   "cell_type": "code",
   "execution_count": 26,
   "id": "548eb8f0",
   "metadata": {},
   "outputs": [
    {
     "data": {
      "text/plain": [
       "'Weight_kg'"
      ]
     },
     "execution_count": 26,
     "metadata": {},
     "output_type": "execute_result"
    }
   ],
   "source": [
    "df.columns[0] # y variable"
   ]
  },
  {
   "cell_type": "code",
   "execution_count": 27,
   "id": "50f24439",
   "metadata": {},
   "outputs": [
    {
     "ename": "SyntaxError",
     "evalue": "invalid syntax (1886354431.py, line 1)",
     "output_type": "error",
     "traceback": [
      "\u001b[1;36m  Input \u001b[1;32mIn [27]\u001b[1;36m\u001b[0m\n\u001b[1;33m    Data scaling(preprocessing data)\u001b[0m\n\u001b[1;37m         ^\u001b[0m\n\u001b[1;31mSyntaxError\u001b[0m\u001b[1;31m:\u001b[0m invalid syntax\n"
     ]
    }
   ],
   "source": [
    "Data scaling(preprocessing data)"
   ]
  },
  {
   "cell_type": "code",
   "execution_count": 28,
   "id": "e171f7e3",
   "metadata": {},
   "outputs": [],
   "source": [
    "scaler_X = StandardScaler()\n",
    "X_scaled = scaler_X.fit_transform(X.values.reshape(-1,1))\n",
    "\n",
    "\n",
    "scaler_y = StandardScaler()\n",
    "y_scaled = scaler_y.fit_transform(y.values.reshape(-1, 1))"
   ]
  },
  {
   "cell_type": "markdown",
   "id": "9306f75a",
   "metadata": {},
   "source": [
    "##### spliting data into 80% 20% radio"
   ]
  },
  {
   "cell_type": "code",
   "execution_count": 29,
   "id": "a451d628",
   "metadata": {},
   "outputs": [],
   "source": [
    "X_train, X_test, y_train, y_test = train_test_split(X, y, test_size=0.2, random_state=0)"
   ]
  },
  {
   "cell_type": "code",
   "execution_count": 30,
   "id": "38c3bf2c",
   "metadata": {},
   "outputs": [
    {
     "name": "stdout",
     "output_type": "stream",
     "text": [
      "Shape of trining data\n",
      "(20000,)\n",
      "(20000,)\n",
      "Shpae of testing data\n",
      "(5000,)\n",
      "(5000,)\n"
     ]
    }
   ],
   "source": [
    "print('Shape of trining data')\n",
    "print(X_train.shape)\n",
    "print(y_train.shape)\n",
    "\n",
    "print('Shpae of testing data')\n",
    "print(X_test.shape)\n",
    "print(y_test.shape)"
   ]
  },
  {
   "cell_type": "code",
   "execution_count": 31,
   "id": "e558f4cb",
   "metadata": {},
   "outputs": [
    {
     "name": "stdout",
     "output_type": "stream",
     "text": [
      "Shape of training data (X): (20000, 1)\n",
      "Shape of training data (y): (20000, 1)\n",
      "Shape of testing data (X): (5000, 1)\n",
      "Shape of testing data (y): (5000, 1)\n"
     ]
    }
   ],
   "source": [
    "#linear regression model X should be 2d array so we are reshaping it to 2d array\n",
    "\n",
    "# Reshape training data\n",
    "X_train_2d = X_train.values.reshape(-1, 1)\n",
    "y_train_2d = y_train.values.reshape(-1, 1)\n",
    "\n",
    "# Reshape testing data\n",
    "X_test_2d = X_test.values.reshape(-1, 1)\n",
    "y_test_2d = y_test.values.reshape(-1, 1)\n",
    "\n",
    "print(\"Shape of training data (X):\", X_train_2d.shape)\n",
    "print(\"Shape of training data (y):\", y_train_2d.shape)\n",
    "print(\"Shape of testing data (X):\", X_test_2d.shape)\n",
    "print(\"Shape of testing data (y):\", y_test_2d.shape)"
   ]
  },
  {
   "cell_type": "code",
   "execution_count": 32,
   "id": "29335d68",
   "metadata": {},
   "outputs": [
    {
     "data": {
      "text/plain": [
       "LinearRegression()"
      ]
     },
     "execution_count": 32,
     "metadata": {},
     "output_type": "execute_result"
    }
   ],
   "source": [
    "lr=LinearRegression() #linear Regression\n",
    "lr"
   ]
  },
  {
   "cell_type": "code",
   "execution_count": 34,
   "id": "3db85f5c",
   "metadata": {},
   "outputs": [
    {
     "data": {
      "text/plain": [
       "LinearRegression()"
      ]
     },
     "execution_count": 34,
     "metadata": {},
     "output_type": "execute_result"
    }
   ],
   "source": [
    "lr.fit(X_train_2d,y_train_2d)"
   ]
  },
  {
   "cell_type": "code",
   "execution_count": 35,
   "id": "869aa5b8",
   "metadata": {},
   "outputs": [
    {
     "data": {
      "text/plain": [
       "array([[55.94425481],\n",
       "       [60.91226889],\n",
       "       [56.56867714],\n",
       "       [56.42643564],\n",
       "       [51.52547113],\n",
       "       [52.93798976],\n",
       "       [60.30463034],\n",
       "       [60.27256006],\n",
       "       [62.74472434],\n",
       "       [63.0616341 ]])"
      ]
     },
     "execution_count": 35,
     "metadata": {},
     "output_type": "execute_result"
    }
   ],
   "source": [
    "y_pred=lr.predict(X_test_2d)\n",
    "y_pred[:10]"
   ]
  },
  {
   "cell_type": "code",
   "execution_count": 36,
   "id": "d8b8f581",
   "metadata": {},
   "outputs": [
    {
     "data": {
      "text/plain": [
       "array([[60.87349789],\n",
       "       [64.25661383],\n",
       "       [50.63170805],\n",
       "       [53.62895327],\n",
       "       [46.5397639 ],\n",
       "       [48.20970821],\n",
       "       [55.81821505],\n",
       "       [55.03481631],\n",
       "       [76.60307055],\n",
       "       [55.98708736]])"
      ]
     },
     "execution_count": 36,
     "metadata": {},
     "output_type": "execute_result"
    }
   ],
   "source": [
    "y_test_2d[:10]"
   ]
  },
  {
   "cell_type": "code",
   "execution_count": 37,
   "id": "966fcc63",
   "metadata": {},
   "outputs": [
    {
     "data": {
      "text/plain": [
       "21.69730652290755"
      ]
     },
     "execution_count": 37,
     "metadata": {},
     "output_type": "execute_result"
    }
   ],
   "source": [
    "mean_squared_error(y_pred,y_test_2d)"
   ]
  },
  {
   "cell_type": "code",
   "execution_count": 38,
   "id": "d7637579",
   "metadata": {},
   "outputs": [
    {
     "data": {
      "text/plain": [
       "DecisionTreeRegressor()"
      ]
     },
     "execution_count": 38,
     "metadata": {},
     "output_type": "execute_result"
    }
   ],
   "source": [
    "model_dtr=DecisionTreeRegressor()\n",
    "model_dtr"
   ]
  },
  {
   "cell_type": "code",
   "execution_count": 39,
   "id": "75fb0157",
   "metadata": {},
   "outputs": [
    {
     "data": {
      "text/plain": [
       "DecisionTreeRegressor()"
      ]
     },
     "execution_count": 39,
     "metadata": {},
     "output_type": "execute_result"
    }
   ],
   "source": [
    "model_dtr.fit(X_train_2d, y_train_2d)"
   ]
  },
  {
   "cell_type": "code",
   "execution_count": 40,
   "id": "ba1ae4e8",
   "metadata": {},
   "outputs": [
    {
     "data": {
      "text/plain": [
       "array([63.37542065, 56.46639802, 56.7162365 , 64.71347169, 57.84078178])"
      ]
     },
     "execution_count": 40,
     "metadata": {},
     "output_type": "execute_result"
    }
   ],
   "source": [
    "y_pred_dtr=model_dtr.predict(X_test_2d)\n",
    "y_pred_dtr[:5]"
   ]
  },
  {
   "cell_type": "code",
   "execution_count": 41,
   "id": "af272f6e",
   "metadata": {},
   "outputs": [
    {
     "data": {
      "text/plain": [
       "41.50751860513505"
      ]
     },
     "execution_count": 41,
     "metadata": {},
     "output_type": "execute_result"
    }
   ],
   "source": [
    "mean_squared_error(y_pred_dtr,y_test_2d)"
   ]
  },
  {
   "cell_type": "markdown",
   "id": "e817779a",
   "metadata": {},
   "source": [
    "##### RandomForestRegresor"
   ]
  },
  {
   "cell_type": "code",
   "execution_count": 42,
   "id": "754c7cc7",
   "metadata": {},
   "outputs": [
    {
     "name": "stderr",
     "output_type": "stream",
     "text": [
      "C:\\Users\\HP\\AppData\\Local\\Temp\\ipykernel_24104\\3179291635.py:2: DataConversionWarning: A column-vector y was passed when a 1d array was expected. Please change the shape of y to (n_samples,), for example using ravel().\n",
      "  model_rfr.fit(X_train_2d,y_train_2d)\n"
     ]
    },
    {
     "data": {
      "text/plain": [
       "RandomForestRegressor()"
      ]
     },
     "execution_count": 42,
     "metadata": {},
     "output_type": "execute_result"
    }
   ],
   "source": [
    "model_rfr=RandomForestRegressor()\n",
    "model_rfr.fit(X_train_2d,y_train_2d)"
   ]
  },
  {
   "cell_type": "code",
   "execution_count": 43,
   "id": "55a77d1e",
   "metadata": {},
   "outputs": [
    {
     "data": {
      "text/plain": [
       "array([[5.675233],\n",
       "       [6.023626],\n",
       "       [5.719022],\n",
       "       [5.709047],\n",
       "       [5.365356],\n",
       "       [5.464412],\n",
       "       [5.981014],\n",
       "       [5.978765],\n",
       "       [6.152131],\n",
       "       [6.174355]])"
      ]
     },
     "execution_count": 43,
     "metadata": {},
     "output_type": "execute_result"
    }
   ],
   "source": [
    "y_pred_rfr=(X_test_2d)\n",
    "y_pred_rfr[:10]"
   ]
  },
  {
   "cell_type": "code",
   "execution_count": 44,
   "id": "3ad8ba1b",
   "metadata": {},
   "outputs": [
    {
     "data": {
      "text/plain": [
       "2708.30376658499"
      ]
     },
     "execution_count": 44,
     "metadata": {},
     "output_type": "execute_result"
    }
   ],
   "source": [
    "mean_squared_error(y_pred_rfr,y_test_2d)"
   ]
  },
  {
   "cell_type": "markdown",
   "id": "3084e266",
   "metadata": {},
   "source": [
    "Hyperparameter tuning "
   ]
  },
  {
   "cell_type": "code",
   "execution_count": 45,
   "id": "6ee59a3d",
   "metadata": {},
   "outputs": [
    {
     "name": "stdout",
     "output_type": "stream",
     "text": [
      "Best Parameters: {'copy_X': True, 'fit_intercept': True}\n",
      "Best Negative MSE Score: -20.836260216566206\n"
     ]
    }
   ],
   "source": [
    "from sklearn.model_selection import GridSearchCV\n",
    "from sklearn.linear_model import LinearRegression\n",
    "\n",
    "# Define hyperparameters to tune\n",
    "param_grid = {\n",
    "    'fit_intercept': [True, False],\n",
    "    'copy_X': [True, False]\n",
    "}\n",
    "\n",
    "# Create a Linear Regression model\n",
    "model_lr = LinearRegression()\n",
    "\n",
    "# Initialize GridSearchCV\n",
    "grid_search = GridSearchCV(model_lr, param_grid, cv=5, scoring='neg_mean_squared_error')\n",
    "\n",
    "# Fit the model\n",
    "grid_search.fit(X_train_2d, y_train_2d)\n",
    "\n",
    "# Print the best parameters and best MSE score\n",
    "print(\"Best Parameters:\", grid_search.best_params_)\n",
    "print(\"Best Negative MSE Score:\", grid_search.best_score_)\n"
   ]
  },
  {
   "cell_type": "code",
   "execution_count": 46,
   "id": "e945e82d",
   "metadata": {},
   "outputs": [
    {
     "name": "stdout",
     "output_type": "stream",
     "text": [
      "MSE Scores: [21.65411512 21.79844701 20.33072238 21.2128048  21.84713487 20.47547042\n",
      " 20.38317103 20.4544885  21.45193422 18.76081422]\n"
     ]
    }
   ],
   "source": [
    "from sklearn.model_selection import cross_val_score\n",
    "from sklearn.linear_model import LinearRegression\n",
    "\n",
    "# Create a Linear Regression model\n",
    "model_lr = LinearRegression()\n",
    "\n",
    "# Perform 10-fold cross-validation\n",
    "accuracy_scores = cross_val_score(model_lr, X_train_2d, y_train_2d, cv=10, scoring='neg_mean_squared_error')\n",
    "\n",
    "# Convert negative mean squared error to positive\n",
    "mse_scores = -accuracy_scores\n",
    "\n",
    "# Print the MSE scores\n",
    "print(\"MSE Scores:\", mse_scores)\n"
   ]
  },
  {
   "cell_type": "markdown",
   "id": "2e18be72",
   "metadata": {},
   "source": [
    "### final model"
   ]
  },
  {
   "cell_type": "code",
   "execution_count": 47,
   "id": "3ab4948f",
   "metadata": {},
   "outputs": [
    {
     "data": {
      "text/plain": [
       "LinearRegression(fit_intercept=False)"
      ]
     },
     "execution_count": 47,
     "metadata": {},
     "output_type": "execute_result"
    }
   ],
   "source": [
    "from sklearn.linear_model import LinearRegression\n",
    "\n",
    "# Initialize the Linear Regression model with the best parameters\n",
    "final_model = LinearRegression(fit_intercept=False, copy_X=True)\n",
    "\n",
    "# Fit the model to the entire training data\n",
    "final_model.fit(X_train_2d, y_train_2d)\n",
    "\n",
    "# Now you can use final_model to make predictions on new data\n"
   ]
  },
  {
   "cell_type": "markdown",
   "id": "bbd60a47",
   "metadata": {},
   "source": [
    "### converting to pickle file"
   ]
  },
  {
   "cell_type": "code",
   "execution_count": 48,
   "id": "df8f4e3f",
   "metadata": {},
   "outputs": [],
   "source": [
    "import pickle\n",
    "\n",
    "# Define the filename for the pickle file\n",
    "filename = 'final_model.pkl'\n",
    "\n",
    "# Save the final_model to a pickle file\n",
    "with open(filename, 'wb') as file:\n",
    "    pickle.dump(final_model, file)\n"
   ]
  },
  {
   "cell_type": "code",
   "execution_count": 49,
   "id": "1a7b4e76",
   "metadata": {},
   "outputs": [
    {
     "data": {
      "text/plain": [
       "'C:\\\\Users\\\\HP\\\\OneDrive\\\\Desktop\\\\Ml_Model_Building\\\\HEIGHT & WEIGHT\\\\final_model.pkl'"
      ]
     },
     "execution_count": 49,
     "metadata": {},
     "output_type": "execute_result"
    }
   ],
   "source": [
    "os.path.abspath('final_model.pkl')"
   ]
  },
  {
   "cell_type": "code",
   "execution_count": 50,
   "id": "c1253f2d",
   "metadata": {},
   "outputs": [
    {
     "name": "stdout",
     "output_type": "stream",
     "text": [
      "Predicted weight: 59.72023785370339\n"
     ]
    }
   ],
   "source": [
    "import pickle\n",
    "import numpy as np\n",
    "\n",
    "# Load the saved model from the file\n",
    "filename = 'final_model.pkl'\n",
    "with open(filename, 'rb') as file:\n",
    "    loaded_model = pickle.load(file)\n",
    "\n",
    "# Input height for prediction\n",
    "height_input = 6.0\n",
    "\n",
    "# Reshape the input height to match the shape expected by the model (2D array)\n",
    "height_input_2d = np.array(height_input).reshape(1, -1)\n",
    "\n",
    "# Use the loaded model to make predictions\n",
    "predicted_weight = loaded_model.predict(height_input_2d)\n",
    "\n",
    "# Print the predicted weight\n",
    "print(\"Predicted weight:\", predicted_weight[0, 0])\n"
   ]
  },
  {
   "cell_type": "code",
   "execution_count": null,
   "id": "e30eadf9",
   "metadata": {},
   "outputs": [],
   "source": []
  }
 ],
 "metadata": {
  "kernelspec": {
   "display_name": "Python 3 (ipykernel)",
   "language": "python",
   "name": "python3"
  },
  "language_info": {
   "codemirror_mode": {
    "name": "ipython",
    "version": 3
   },
   "file_extension": ".py",
   "mimetype": "text/x-python",
   "name": "python",
   "nbconvert_exporter": "python",
   "pygments_lexer": "ipython3",
   "version": "3.9.12"
  }
 },
 "nbformat": 4,
 "nbformat_minor": 5
}
